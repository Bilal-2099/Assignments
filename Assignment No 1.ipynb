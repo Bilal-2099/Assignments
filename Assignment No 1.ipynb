{
 "cells": [
  {
   "cell_type": "raw",
   "metadata": {},
   "source": [
    "1) A company decided to give bonus of 5% to employee if his/her year of service is more than 5 years.\n",
    "Ask user for their salary and year of service and print the net bonus amount."
   ]
  },
  {
   "cell_type": "code",
   "execution_count": 1,
   "metadata": {},
   "outputs": [
    {
     "name": "stdout",
     "output_type": "stream",
     "text": [
      "Enter Your Salary: 50\n",
      "Enter Your Service Duration: 6\n",
      "2.5\n"
     ]
    }
   ],
   "source": [
    "Bonus = 0.05\n",
    "Salary = int(input(\"Enter Your Salary: \"))\n",
    "Service = int(input(\"Enter Your Service Duration: \"))\n",
    "Service_required = 5\n",
    "\n",
    "if Service < Service_required:\n",
    "    print(\"You are not Eligible for Bonus\")\n",
    "else:\n",
    "    print(Salary*Bonus)"
   ]
  },
  {
   "cell_type": "markdown",
   "metadata": {},
   "source": [
    "\n",
    "2) Write a program to check whether a person is eligible for voting or not. (accept age from user) if age is greater than 17 eligible otherwise not eligible"
   ]
  },
  {
   "cell_type": "code",
   "execution_count": 19,
   "metadata": {},
   "outputs": [
    {
     "name": "stdout",
     "output_type": "stream",
     "text": [
      "Enter Your Namebilal\n",
      "Enter age : 20\n",
      "Eligible for Voting!\n"
     ]
    }
   ],
   "source": [
    "Name = input(\"Enter Your Name\")\n",
    "age = int(input(\"Enter age : \"))\n",
    "\n",
    "if age >= 18:\n",
    "    print(\"Eligible for Voting!\")\n",
    "else:\n",
    "    print(\"Not Eligible for Voting!\")\n"
   ]
  },
  {
   "cell_type": "markdown",
   "metadata": {},
   "source": [
    "\n",
    "3) Write a program to check whether a number entered by user is even or odd."
   ]
  },
  {
   "cell_type": "code",
   "execution_count": 12,
   "metadata": {},
   "outputs": [
    {
     "name": "stdout",
     "output_type": "stream",
     "text": [
      "Enter A Number :5\n",
      "Its an Odd Number\n"
     ]
    }
   ],
   "source": [
    "Number = int(input(\"Enter A Number :\"))\n",
    "if Number%2 == 0 :\n",
    "    print(\"Its a Even Number\")\n",
    "else:\n",
    "    print(\"Its an Odd Number\")"
   ]
  },
  {
   "cell_type": "markdown",
   "metadata": {},
   "source": [
    "4) Write a program to check whether a number is divisible by 7 or not.\n",
    "Show Answer"
   ]
  },
  {
   "cell_type": "code",
   "execution_count": 20,
   "metadata": {},
   "outputs": [
    {
     "name": "stdout",
     "output_type": "stream",
     "text": [
      "Enter a Number :49\n",
      "Yes,This Number is Divisible by 7\n"
     ]
    }
   ],
   "source": [
    "Number = int(input(\"Enter a Number :\"))\n",
    "if Number%7 == 0 :\n",
    "    print(\"Yes,This Number is Divisible by 7\")\n",
    "else :\n",
    "    print(\"Sorry this number is not Divisible by 7\")"
   ]
  },
  {
   "cell_type": "raw",
   "metadata": {},
   "source": [
    "5) Write a program to display \n",
    "\"Hello\" if a number entered by user is a multiple of five , otherwise print \"Bye\"."
   ]
  },
  {
   "cell_type": "code",
   "execution_count": 21,
   "metadata": {},
   "outputs": [
    {
     "name": "stdout",
     "output_type": "stream",
     "text": [
      "Enter a Number30\n",
      "Hello\n"
     ]
    }
   ],
   "source": [
    "Number = int(input(\"Enter a Number\"))\n",
    "if Number%5 == 0 :\n",
    "    print(\"Hello\")\n",
    "else :\n",
    "    print(\"Bye\")\n"
   ]
  },
  {
   "cell_type": "raw",
   "metadata": {},
   "source": [
    "6) Write a program to calculate the electricity bill (accept number of unit from user) according to the following criteria :\n",
    "     Unit                                                     Price  \n",
    "uptp 100 units                                             no charge\n",
    "Next 200 units                                              Rs 5 per unit\n",
    "After 200 units                                             Rs 10 per unit\n",
    "(For example if input unit is 350 than total bill amount is Rs.3500\n",
    "(For example if input unit is 97 than total bill amount is Rs.0\n",
    "(For example if input unit is 150 than total bill amount is Rs.750"
   ]
  },
  {
   "cell_type": "code",
   "execution_count": 11,
   "metadata": {},
   "outputs": [
    {
     "name": "stdout",
     "output_type": "stream",
     "text": [
      "Enter Your Units: 500\n",
      "5000\n"
     ]
    }
   ],
   "source": [
    "Units = int(input(\"Enter Your Units: \"))\n",
    "if Units > 200 :\n",
    "    print(Units*10)\n",
    "elif Units > 100 :\n",
    "    print(Units*5)\n",
    "else:\n",
    "    print(\"No Charges\")"
   ]
  },
  {
   "cell_type": "raw",
   "metadata": {},
   "source": [
    "7) Write a program to display the last digit of a number."
   ]
  },
  {
   "cell_type": "code",
   "execution_count": 1,
   "metadata": {},
   "outputs": [
    {
     "name": "stdout",
     "output_type": "stream",
     "text": [
      "Please Enter any Number: 56\n",
      "The Last Digit in a Given Number 56 = 6\n"
     ]
    }
   ],
   "source": [
    "number = int(input(\"Please Enter any Number: \"))\n",
    "\n",
    "last_digit = number % 10\n",
    "\n",
    "print(\"The Last Digit in a Given Number %d = %d\" %(number, last_digit))"
   ]
  },
  {
   "cell_type": "raw",
   "metadata": {},
   "source": [
    "Q8. Write a program to check whether the last digit of a number( entered by user ) is \n",
    "divisible by 3 or not."
   ]
  },
  {
   "cell_type": "code",
   "execution_count": 2,
   "metadata": {},
   "outputs": [
    {
     "name": "stdout",
     "output_type": "stream",
     "text": [
      "Enter a Value: 9\n",
      "Yess... It is Divisible by 3\n"
     ]
    }
   ],
   "source": [
    "Num2 = int(input(\"Enter a Value: \"))\n",
    "Num3 = (Num2%10)\n",
    "if Num3/3 :\n",
    "    print(\"Yess... It is Divisible by 3\")\n",
    "else:\n",
    "    print(\"No.. Not Diivisible by 3\")"
   ]
  },
  {
   "cell_type": "raw",
   "metadata": {},
   "source": [
    "9) Take values of length and breadth of a rectangle from user and print if it is square or rectangle."
   ]
  },
  {
   "cell_type": "code",
   "execution_count": 3,
   "metadata": {},
   "outputs": [
    {
     "name": "stdout",
     "output_type": "stream",
     "text": [
      "Enter Length :20\n",
      "Enter Breadth50\n",
      "It is a Rectangle\n"
     ]
    }
   ],
   "source": [
    "Length = int(input(\"Enter Length :\"))\n",
    "Breadth = int(input(\"Enter Breadth\"))\n",
    "\n",
    "if Length == Breadth :\n",
    "    print(\"It is a Square\")\n",
    "else :\n",
    "    print(\"It is a Rectangle\")"
   ]
  },
  {
   "cell_type": "raw",
   "metadata": {},
   "source": [
    "10) Take two int values from user and print greatest among them."
   ]
  },
  {
   "cell_type": "code",
   "execution_count": 4,
   "metadata": {},
   "outputs": [
    {
     "name": "stdout",
     "output_type": "stream",
     "text": [
      "Enter a Number :200\n",
      "Enter a Number :180\n",
      "200\n"
     ]
    }
   ],
   "source": [
    "Number_1 = int(input(\"Enter a Number :\"))\n",
    "Number_2 = int(input(\"Enter a Number :\"))\n",
    "if Number_1>Number_2 :\n",
    "    print(Number_1)\n",
    "\n",
    "else :\n",
    "    print(Number_2)"
   ]
  },
  {
   "cell_type": "raw",
   "metadata": {},
   "source": [
    "11) A shop will give discount of 10% if the cost of purchased quantity is more than 1000.\n",
    "Ask user for quantity\n",
    "Suppose, one unit will cost 100.\n",
    "Judge and print total cost for user."
   ]
  },
  {
   "cell_type": "code",
   "execution_count": 5,
   "metadata": {},
   "outputs": [
    {
     "name": "stdout",
     "output_type": "stream",
     "text": [
      "Enter Quantity :3000\n",
      "27000.0\n"
     ]
    }
   ],
   "source": [
    "Purchase_Quantity = int(input(\"Enter Quantity :\"))\n",
    "Price = 10\n",
    "if Purchase_Quantity < 1000 :\n",
    "    print(Purchase_Quantity*Price)\n",
    "else :\n",
    "    print(Purchase_Quantity*(Price/10)*9)"
   ]
  },
  {
   "cell_type": "raw",
   "metadata": {},
   "source": [
    "12) A school has following rules for grading system:\n",
    "\n",
    "a. Below 25 - F\n",
    "\n",
    "b. 25 to 45 - E\n",
    "\n",
    "c. 45 to 50 - D\n",
    "\n",
    "d. 50 to 60 - C\n",
    "\n",
    "e. 60 to 80 - B\n",
    "\n",
    "f. Above 80 - A\n",
    "\n",
    "Ask user to enter marks and print the corresponding grade."
   ]
  },
  {
   "cell_type": "code",
   "execution_count": 6,
   "metadata": {},
   "outputs": [
    {
     "name": "stdout",
     "output_type": "stream",
     "text": [
      "Enter Your Percentage: 89\n",
      "A\n"
     ]
    }
   ],
   "source": [
    "Percentage = int(input(\"Enter Your Percentage: \"))\n",
    "if Percentage >= 90 :\n",
    "    print(\"A+\")\n",
    "elif Percentage >= 80 :\n",
    "    print(\"A\")\n",
    "elif Percentage >= 60 :\n",
    "    print(\"B\")\n",
    "elif Percentage >= 50 :\n",
    "    print(\"C\")\n",
    "elif Percentage >= 45 :\n",
    "    print(\"D\")\n",
    "elif Percentage >= 25 :\n",
    "    print(\"E\")\n",
    "else:\n",
    "    print(\"F\")"
   ]
  },
  {
   "cell_type": "raw",
   "metadata": {},
   "source": [
    "13) Take input of age of 3 people by user and determine oldest and youngest among them."
   ]
  },
  {
   "cell_type": "code",
   "execution_count": 12,
   "metadata": {},
   "outputs": [
    {
     "name": "stdout",
     "output_type": "stream",
     "text": [
      "Enter age of person 1: 18\n",
      "Enter age of person 2: 17\n",
      "Enter age of person 3: 21\n",
      "The oldest person is 21 years old.\n",
      "The youngest person is 17 years old.\n"
     ]
    }
   ],
   "source": [
    "age1 = int(input(\"Enter age of person 1: \"))\n",
    "age2 = int(input(\"Enter age of person 2: \"))\n",
    "age3 = int(input(\"Enter age of person 3: \"))\n",
    "\n",
    "\n",
    "if age1 >= age2 and age1 >= age3:\n",
    "    oldest = age1\n",
    "elif age2 >= age1 and age2 >= age3:\n",
    "    oldest = age2\n",
    "else:\n",
    "    oldest = age3\n",
    "\n",
    "if age1 <= age2 and age1 <= age3:\n",
    "    youngest = age1\n",
    "elif age2 <= age1 and age2 <= age3:\n",
    "    youngest = age2\n",
    "else:\n",
    "    youngest = age3\n",
    "    \n",
    "\n",
    "    \n",
    "print(f\"The oldest person is {oldest} years old.\")\n",
    "print(f\"The youngest person is {youngest} years old.\")\n"
   ]
  },
  {
   "cell_type": "raw",
   "metadata": {},
   "source": [
    "14)A student will not be allowed to sit in exam if his/her attendence is less than 75%.\n",
    "\n",
    "Take following input from user\n",
    "\n",
    "Number of classes held\n",
    "\n",
    "Number of classes attended.\n",
    "\n",
    "And print\n",
    "\n",
    "percentage of class attended\n",
    "\n",
    "Is student is allowed to sit in exam or not.\n"
   ]
  },
  {
   "cell_type": "code",
   "execution_count": 7,
   "metadata": {},
   "outputs": [
    {
     "name": "stdout",
     "output_type": "stream",
     "text": [
      "Enter Classes Held :80\n",
      "Enter Classes that you Atended :75\n",
      "You are allowed to sit in exams\n"
     ]
    }
   ],
   "source": [
    "Classes_held = int(input(\"Enter Classes Held :\"))\n",
    "Classes_Atended = int(input(\"Enter Classes that you Atended :\"))\n",
    "if Classes_Atended/Classes_held >= 0.75 :\n",
    "    print(\"You are allowed to sit in exams\")\n",
    "else : \n",
    "    print(\"You are NOT ALLOWED to sit in exams\")"
   ]
  },
  {
   "cell_type": "raw",
   "metadata": {},
   "source": [
    "15) Modify the above question to allow student to sit if he/she has medical cause. Ask user if he/she has medical cause or not ( 'Y' or 'N' ) and print accordingly."
   ]
  },
  {
   "cell_type": "code",
   "execution_count": 8,
   "metadata": {},
   "outputs": [
    {
     "name": "stdout",
     "output_type": "stream",
     "text": [
      "Enter Classes Held :100\n",
      "Enter Classes that you Atended :65\n",
      "Did You suffer Medical Cause :Y\n",
      "You can Appear in Exams\n"
     ]
    }
   ],
   "source": [
    "Classes_held = int(input(\"Enter Classes Held :\"))\n",
    "Classes_Atended = int(input(\"Enter Classes that you Atended :\"))\n",
    "Illness = input(\"Did You suffer Medical Cause :\")\n",
    "if Classes_Atended/Classes_held >= 0.75 :\n",
    "    print(\"You are allowed to sit in exams\")\n",
    "elif Illness == \"Y\" :\n",
    "    print(\"You can Appear in Exams\")\n",
    "else : \n",
    "    print(\"You are NOT ALLOWED to sit in exams\")"
   ]
  },
  {
   "cell_type": "raw",
   "metadata": {},
   "source": [
    "16) Write a program to check if a year is leap year or not.\n",
    "\n",
    "If a year is divisible by 4 then it is leap year but if the year is century year like 2000, 1900, 2100 then it must be divisible by 400."
   ]
  },
  {
   "cell_type": "code",
   "execution_count": 9,
   "metadata": {},
   "outputs": [
    {
     "name": "stdout",
     "output_type": "stream",
     "text": [
      "Enter a Year :2004\n",
      "Its a Leap Year\n"
     ]
    }
   ],
   "source": [
    "Year = int(input(\"Enter a Year :\"))\n",
    "if Year % 4 ==0 :\n",
    "    print(\"Its a Leap Year\")\n",
    "else :\n",
    "    print(\"Its Not a Leap Year\")"
   ]
  },
  {
   "cell_type": "raw",
   "metadata": {},
   "source": [
    "17) Ask user to enter age, gender ( M or F ), marital status ( Y or N ) and then using following rules print their place of service.\n",
    "\n",
    "if employee is female, then she will work only in urban areas.\n",
    "\n",
    "if employee is a male and age is in between 20 to 40 then he may work in anywhere\n",
    "\n",
    "if employee is male and age is in between 40 t0 60 then he will work in urban areas only.\n",
    "\n",
    "And any other input of age should print \"ERROR\""
   ]
  },
  {
   "cell_type": "code",
   "execution_count": 10,
   "metadata": {},
   "outputs": [
    {
     "name": "stdout",
     "output_type": "stream",
     "text": [
      "Enter Your Age :17\n",
      "Enter Your Gender :M\n",
      "Enter Your Maritial Status :Single\n",
      "You will work in any area\n"
     ]
    }
   ],
   "source": [
    "Age = int(input(\"Enter Your Age :\"))\n",
    "Gender = input(\"Enter Your Gender :\")\n",
    "Maritial_Status = input(\"Enter Your Maritial Status :\")\n",
    "\n",
    "if Age <= 40 :\n",
    "    print(\"You will work in any area\")\n",
    "elif Age > 60 :\n",
    "    print(\"ERROR\")\n",
    "elif Age <= 20 :\n",
    "    print(\"ERROR\")\n",
    "elif Age > 40 :\n",
    "    print(\"You will be work in Urban areas Only\")\n",
    "\n",
    "elif Gender == \"F\" :\n",
    "    print(\"You will work only in urban areas\")\n",
    "else:\n",
    "    print(\"ERROR\")"
   ]
  },
  {
   "cell_type": "code",
   "execution_count": null,
   "metadata": {},
   "outputs": [],
   "source": []
  }
 ],
 "metadata": {
  "kernelspec": {
   "display_name": "Python 3 (ipykernel)",
   "language": "python",
   "name": "python3"
  },
  "language_info": {
   "codemirror_mode": {
    "name": "ipython",
    "version": 3
   },
   "file_extension": ".py",
   "mimetype": "text/x-python",
   "name": "python",
   "nbconvert_exporter": "python",
   "pygments_lexer": "ipython3",
   "version": "3.11.5"
  }
 },
 "nbformat": 4,
 "nbformat_minor": 2
}
