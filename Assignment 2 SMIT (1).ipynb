{
 "cells": [
  {
   "cell_type": "markdown",
   "id": "78771a4b",
   "metadata": {},
   "source": [
    "## Scenario 1: Grocery Shopping List\n",
    "- You are creating a program to manage a grocery shopping list. Users should be able to add items,remove items, and display the current list.\n"
   ]
  },
  {
   "cell_type": "code",
   "execution_count": 1,
   "id": "6a6fa63a",
   "metadata": {},
   "outputs": [
    {
     "name": "stdout",
     "output_type": "stream",
     "text": [
      "Enter any item to add to the list: Potato\n",
      "Grocery list is now ['Egg', 'Oil', 'Tomato', 'Milk', 'Flour', 'Potato']\n",
      "Enter anything you want to delete from the list: Tomato\n",
      "Updated Grocery list is now ['Egg', 'Oil', 'Milk', 'Flour', 'Potato']\n"
     ]
    }
   ],
   "source": [
    "Grocery_List = [\"Egg\", \"Oil\", \"Tomato\", \"Milk\", \"Flour\"]\n",
    "new_item = input(\"Enter any item to add to the list: \")\n",
    "Grocery_List.append(new_item)\n",
    "print(f'Grocery list is now {Grocery_List}')\n",
    "\n",
    "item_to_remove = input(\"Enter anything you want to delete from the list: \")\n",
    "if item_to_remove in Grocery_List:\n",
    "    Grocery_List.remove(item_to_remove)\n",
    "    print(f'Updated Grocery list is now {Grocery_List}')\n",
    "else:\n",
    "    print(f'The item \"{item_to_remove}\" is not in the list.')\n"
   ]
  },
  {
   "cell_type": "markdown",
   "id": "9dd41140",
   "metadata": {},
   "source": [
    "## Scenario 2: Student Grades\n",
    "- You are managing student grades using a dictionary. You need to calculate the average grade.take atleast 5 Students grades & then calculate the average.\n"
   ]
  },
  {
   "cell_type": "code",
   "execution_count": 2,
   "id": "d1d6c739",
   "metadata": {},
   "outputs": [],
   "source": [
    "Grades = [{\"Name\" : \"Bilal\",\n",
    "         \"Roll_no\" : \"1111\",\n",
    "         \"Class\" : \"XI\",\n",
    "          \"percentage\": 86},\n",
    "         {\"Name\":\"Imran\",\n",
    "         \"Roll_no\":\"2222\",\n",
    "         \"Class\":\"XI\",\n",
    "         \"percentage\": 92},\n",
    "         {\"Name\":\"Faizan\",\n",
    "         \"Roll_no\":\"3333\",\n",
    "         \"Class\":\"XI\",\n",
    "         \"percentage\": 50},\n",
    "         {\"Name\":\"Faizan\",\n",
    "         \"Roll_no\":\"3333\",\n",
    "         \"Class\":\"XI\",\n",
    "         \"percentage\": 62},\n",
    "        {\"Name\":\"Faizan\",\n",
    "         \"Roll_no\":\"3333\",\n",
    "         \"Class\":\"XI\",\n",
    "         \"percentage\": 74}]"
   ]
  },
  {
   "cell_type": "code",
   "execution_count": 3,
   "id": "62a81a96",
   "metadata": {},
   "outputs": [
    {
     "data": {
      "text/plain": [
       "50"
      ]
     },
     "execution_count": 3,
     "metadata": {},
     "output_type": "execute_result"
    }
   ],
   "source": [
    "Grades[2][\"percentage\"]"
   ]
  },
  {
   "cell_type": "code",
   "execution_count": 4,
   "id": "001857a9",
   "metadata": {},
   "outputs": [
    {
     "name": "stdout",
     "output_type": "stream",
     "text": [
      "72.8\n"
     ]
    }
   ],
   "source": [
    "Avrage = []\n",
    "for perc in Grades:\n",
    "    \n",
    "    if perc:\n",
    "        Avrage.append(perc[\"percentage\"])\n",
    "        Average = sum(Avrage)/len(Avrage)\n",
    "print(Average)"
   ]
  },
  {
   "cell_type": "markdown",
   "id": "8bac0b02",
   "metadata": {},
   "source": [
    "## Scenario 3: Word Frequency Counter\n",
    "- You are given a list of words, and you need to count the frequency of each word.\n",
    "- word_list = [\"apple\", \"banana\", \"apple\", \"orange\", \"banana\", \"grape\", \"apple\"]\n"
   ]
  },
  {
   "cell_type": "code",
   "execution_count": 5,
   "id": "500e2267",
   "metadata": {},
   "outputs": [
    {
     "name": "stdout",
     "output_type": "stream",
     "text": [
      "Apple frequency in this list is 1\n",
      "Banana frequency in this list is 2\n",
      "Orange frequency in this list is 2\n",
      "Grape frequency in this list is 2\n"
     ]
    }
   ],
   "source": [
    "word_list = [\"banana\", \"orange\", \"apple\", \"orange\", \"banana\", \"grape\", \"grape\"]\n",
    "count = []\n",
    "for temp in word_list:\n",
    "    \n",
    "    if temp == \"apple\":\n",
    "        apple_count = 1\n",
    "    else:\n",
    "        apple_count = 0\n",
    "    count.append(apple_count)\n",
    "    \n",
    "apple = sum(count)\n",
    "print(f'Apple frequency in this list is {apple}')\n",
    "\n",
    "count = []\n",
    "for temp in word_list:\n",
    "    \n",
    "    if temp == \"banana\":\n",
    "        banana_count = 1\n",
    "    else:\n",
    "        banana_count = 0\n",
    "    count.append(banana_count)\n",
    "    \n",
    "banana = sum(count)\n",
    "print(f'Banana frequency in this list is {banana}')\n",
    "\n",
    "count = []\n",
    "for temp in word_list:\n",
    "    \n",
    "    if temp == \"orange\":\n",
    "        orange_count = 1\n",
    "    else:\n",
    "        orange_count = 0\n",
    "    count.append(orange_count)\n",
    "    \n",
    "orange = sum(count)\n",
    "print(f'Orange frequency in this list is {orange}')\n",
    "\n",
    "count = []\n",
    "for temp in word_list:\n",
    "    \n",
    "    if temp == \"grape\":\n",
    "        grape_count = 1\n",
    "    else:\n",
    "        grape_count = 0\n",
    "    count.append(grape_count)\n",
    "    \n",
    "grape = sum(count)\n",
    "print(f'Grape frequency in this list is {grape}')\n",
    "\n"
   ]
  },
  {
   "cell_type": "markdown",
   "id": "17251aa4",
   "metadata": {},
   "source": [
    "## Scenario 4: Password Strength Checker\n",
    "You are creating a program to check the strength of passwords based on certain criteria.\n",
    "- Password should be at least 8 characters long.\n",
    "- Password should contain at least one digit.\n",
    "- Password should contain at least one letter.\n"
   ]
  },
  {
   "cell_type": "code",
   "execution_count": 6,
   "id": "2a8e1006",
   "metadata": {},
   "outputs": [
    {
     "name": "stdout",
     "output_type": "stream",
     "text": [
      "Enter the password :Bilal123@\n",
      "That is a valid password\n"
     ]
    }
   ],
   "source": [
    "length = lower = upper = digit = False\n",
    "password = input(\"Enter the password :\")\n",
    "if len(password) >=8:\n",
    "    length = True\n",
    "    for letter in password:\n",
    "        if letter.islower():\n",
    "            lower = True\n",
    "        elif letter.isupper():\n",
    "            upper = True\n",
    "        elif letter.isdigit():\n",
    "            digit = True\n",
    "            \n",
    "if length and lower and upper and digit:\n",
    "    print('That is a valid password')\n",
    "else:\n",
    "    print('Password is not valid')\n",
    "    print('Password must contain one uppercase')\n",
    "    print('Password must contain one lowercase')\n",
    "    print('Password must contain one digit')"
   ]
  },
  {
   "cell_type": "markdown",
   "id": "6986d3ec",
   "metadata": {},
   "source": [
    "## Scenario 05: Voting System (Annual Employee Recognition Awards)\n",
    "- You are developing a simple voting system for a contest. Users can vote for their Favorite option, and you need to count the votes.\n",
    "- In a corporate setting, the HR department is organizing the Annual Employee Recognition Awards, where employees get the opportunity to vote for their colleagues nominated in different categories. \n",
    "- The HR team has decided to use a simple voting system to collect and tally votes for the nominees in various award categories. The script provided will be utilized for this purpose.\n",
    "- Candidates: The nominees for different award categories, such as \"Employee of the Year,\" \"Team Player of the Year,\" and \"Innovation Award,\" are represented by the list of candidates: 'Candidate A,' 'Candidate B,' and 'Candidate C.'\n",
    "- Voting Process: Employees are requested to input the number of voters participating in the awards. Each voter is presented with a list of nominees, and they can vote for their preferred candidate by entering the corresponding number.\n",
    "- Validation: The script ensures that the entered vote is within the valid range of candidates. If an employee enters an invalid vote, the system prompts them to choose a valid candidate.\n",
    "- Recording Votes: The script records each vote for the selected candidate and prints a confirmation message indicating that the vote has been recorded.\n",
    "- Results Display: Once all votes are collected, the system displays the voting results, showing the number of votes each candidate received in each category.\n",
    "- Award Winners: Based on the voting results, the HR department can identify the winners for each award category and proceed with recognizing and rewarding the selected employees during the Annual Employee Recognition Ceremony.\n",
    "- This script provides a straightforward and transparent way for employees to participate in the recognition process, fostering a sense of engagement and community within the organization. The HR team can use the collected votes to acknowledge and appreciate the efforts of outstanding employees in various aspects of their work."
   ]
  },
  {
   "cell_type": "code",
   "execution_count": 10,
   "id": "3f18a835",
   "metadata": {},
   "outputs": [
    {
     "name": "stdout",
     "output_type": "stream",
     "text": [
      "\n",
      "Employee of the Year Voting:\n",
      "Enter the number of voters participating: 2\n",
      "Nominees:\n",
      "1. Ali\n",
      "2. Bilal\n",
      "3. Imran\n",
      "Enter the number of your preferred candidate: 2\n",
      "Your vote for Bilal has been recorded.\n",
      "\n",
      "Nominees:\n",
      "1. Ali\n",
      "2. Bilal\n",
      "3. Imran\n",
      "Enter the number of your preferred candidate: 2\n",
      "Your vote for Bilal has been recorded.\n",
      "\n",
      "\n",
      "Team Player of the Year Voting:\n",
      "Enter the number of voters participating: 2\n",
      "Nominees:\n",
      "1. Ali\n",
      "2. Bilal\n",
      "3. Imran\n",
      "Enter the number of your preferred candidate: 2\n",
      "Your vote for Bilal has been recorded.\n",
      "\n",
      "Nominees:\n",
      "1. Ali\n",
      "2. Bilal\n",
      "3. Imran\n",
      "Enter the number of your preferred candidate: 2\n",
      "Your vote for Bilal has been recorded.\n",
      "\n",
      "\n",
      "Innovation Award Voting:\n",
      "Enter the number of voters participating: 2\n",
      "Nominees:\n",
      "1. Ali\n",
      "2. Bilal\n",
      "3. Imran\n",
      "Enter the number of your preferred candidate: 2\n",
      "Your vote for Bilal has been recorded.\n",
      "\n",
      "Nominees:\n",
      "1. Ali\n",
      "2. Bilal\n",
      "3. Imran\n",
      "Enter the number of your preferred candidate: 2\n",
      "Your vote for Bilal has been recorded.\n",
      "\n",
      "\n",
      "Employee of the Year Results:\n",
      "Voting Results:\n",
      "Ali: 0 votes\n",
      "Bilal: 2 votes\n",
      "Imran: 0 votes\n",
      "\n",
      "Team Player of the Year Results:\n",
      "Voting Results:\n",
      "Ali: 0 votes\n",
      "Bilal: 2 votes\n",
      "Imran: 0 votes\n",
      "\n",
      "Innovation Award Results:\n",
      "Voting Results:\n",
      "Ali: 0 votes\n",
      "Bilal: 2 votes\n",
      "Imran: 0 votes\n",
      "\n",
      "Employee of the Year Winner: {'Ali': 'Bilal', 'Bilal': 'Bilal', 'Imran': 'Bilal'}\n",
      "\n",
      "Team Player of the Year Winner: {'Ali': 'Bilal', 'Bilal': 'Bilal', 'Imran': 'Bilal'}\n",
      "\n",
      "Innovation Award Winner: {'Ali': 'Bilal', 'Bilal': 'Bilal', 'Imran': 'Bilal'}\n"
     ]
    }
   ],
   "source": [
    "class VotingSystem:\n",
    "    def __init__(self, candidates):\n",
    "        self.candidates = candidates\n",
    "        self.votes = {candidate: 0 for candidate in candidates}\n",
    "\n",
    "    def display_candidates(self):\n",
    "        print(\"Nominees:\")\n",
    "        for i, candidate in enumerate(self.candidates, start=1):\n",
    "            print(f\"{i}. {candidate}\")\n",
    "\n",
    "    def vote(self, voter_count):\n",
    "        for _ in range(voter_count):\n",
    "            self.display_candidates()\n",
    "            try:\n",
    "                vote = int(input(\"Enter the number of your preferred candidate: \"))\n",
    "                if 1 <= vote <= len(self.candidates):\n",
    "                    selected_candidate = self.candidates[vote - 1]\n",
    "                    self.votes[selected_candidate] += 1\n",
    "                    print(f\"Your vote for {selected_candidate} has been recorded.\\n\")\n",
    "                else:\n",
    "                    print(\"Invalid vote. Please choose a valid candidate.\\n\")\n",
    "            except ValueError:\n",
    "                print(\"Invalid input. Please enter a number.\\n\")\n",
    "\n",
    "    def display_results(self):\n",
    "        print(\"Voting Results:\")\n",
    "        for candidate, votes in self.votes.items():\n",
    "            print(f\"{candidate}: {votes} votes\")\n",
    "\n",
    "    def determine_winners(self):\n",
    "        winners = {category: max(self.votes, key=self.votes.get) for category in self.candidates}\n",
    "        return winners\n",
    "\n",
    "\n",
    "# List of categories and nominees\n",
    "categories = {\n",
    "    \"Employee of the Year\": ['Ali', 'Bilal', 'Imran'],\n",
    "    \"Team Player of the Year\": ['Ali', 'Bilal', 'Imran'],\n",
    "    \"Innovation Award\": ['Ali', 'Bilal', 'Imran']\n",
    "}\n",
    "\n",
    "# Initialize the voting system for each category\n",
    "voting_systems = {category: VotingSystem(nominees) for category, nominees in categories.items()}\n",
    "\n",
    "# Collect votes for each category\n",
    "for category, voting_system in voting_systems.items():\n",
    "    print(f\"\\n{category} Voting:\")\n",
    "    voter_count = int(input(\"Enter the number of voters participating: \"))\n",
    "    voting_system.vote(voter_count)\n",
    "\n",
    "# Display voting results\n",
    "for category, voting_system in voting_systems.items():\n",
    "    print(f\"\\n{category} Results:\")\n",
    "    voting_system.display_results()\n",
    "\n",
    "# Determine and display winners\n",
    "for category, voting_system in voting_systems.items():\n",
    "    winners = voting_system.determine_winners()\n",
    "    print(f\"\\n{category} Winner: {winners}\")\n",
    "\n",
    "# Now the HR team can proceed with recognizing and rewarding the winners.\n"
   ]
  },
  {
   "cell_type": "markdown",
   "id": "9269aea4",
   "metadata": {},
   "source": []
  }
 ],
 "metadata": {
  "kernelspec": {
   "display_name": "Python 3 (ipykernel)",
   "language": "python",
   "name": "python3"
  },
  "language_info": {
   "codemirror_mode": {
    "name": "ipython",
    "version": 3
   },
   "file_extension": ".py",
   "mimetype": "text/x-python",
   "name": "python",
   "nbconvert_exporter": "python",
   "pygments_lexer": "ipython3",
   "version": "3.11.5"
  }
 },
 "nbformat": 4,
 "nbformat_minor": 5
}
