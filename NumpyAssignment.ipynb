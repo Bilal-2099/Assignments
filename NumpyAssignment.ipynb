{
 "cells": [
  {
   "cell_type": "markdown",
   "metadata": {
    "id": "UZXjlass3ARu"
   },
   "source": [
    "\n",
    "# **1. Basic Array Manipulation:**\n"
   ]
  },
  {
   "cell_type": "markdown",
   "metadata": {
    "id": "tDWPQRm23C7o"
   },
   "source": [
    "Create a 1D array with values ranging from 0 to 9.\n"
   ]
  },
  {
   "cell_type": "code",
   "execution_count": 6,
   "metadata": {
    "id": "OvGF66_02Q8H"
   },
   "outputs": [
    {
     "name": "stdout",
     "output_type": "stream",
     "text": [
      "[1 2 3 4 5 6 7 8 9]\n"
     ]
    }
   ],
   "source": [
    "import numpy as np\n",
    "Array = np.arange(1,10)\n",
    "print(Array)"
   ]
  },
  {
   "cell_type": "markdown",
   "metadata": {
    "id": "UYzIzPyB3Ne3"
   },
   "source": [
    "Reshape the array into a 3x3 matrix.\n",
    "\n",
    "Explore Reshape Function"
   ]
  },
  {
   "cell_type": "code",
   "execution_count": 5,
   "metadata": {
    "id": "RLlzDCBc2Q_P"
   },
   "outputs": [
    {
     "name": "stdout",
     "output_type": "stream",
     "text": [
      "[[0 1 2]\n",
      " [3 4 5]\n",
      " [6 7 8]]\n"
     ]
    }
   ],
   "source": [
    "Array = np.arange(9)\n",
    "Reshaped_Array = array.reshape(3, 3)\n",
    "print(Reshaped_Array)"
   ]
  },
  {
   "cell_type": "markdown",
   "metadata": {
    "id": "KmhRK9Ti3Phn"
   },
   "source": [
    "Access the element at the second row, second column.\n"
   ]
  },
  {
   "cell_type": "code",
   "execution_count": 7,
   "metadata": {
    "id": "Dk_a1D3A3ijN"
   },
   "outputs": [
    {
     "name": "stdout",
     "output_type": "stream",
     "text": [
      "4\n"
     ]
    }
   ],
   "source": [
    "array = np.arange(9).reshape(3, 3)\n",
    "Chosen_One = array[1, 1]\n",
    "print(Chosen_One)"
   ]
  },
  {
   "cell_type": "markdown",
   "metadata": {
    "id": "NlH7N-fZ36wc"
   },
   "source": [
    "Perform element-wise addition, subtraction, multiplication, and division on two arrays [1, 2, 3] and [4, 5, 6].\n"
   ]
  },
  {
   "cell_type": "code",
   "execution_count": 11,
   "metadata": {
    "id": "PkgNSo1a37kP"
   },
   "outputs": [
    {
     "name": "stdout",
     "output_type": "stream",
     "text": [
      "[5 7 9]\n",
      "[-3 -3 -3]\n",
      "[ 4 10 18]\n",
      "[0.25 0.4  0.5 ]\n"
     ]
    }
   ],
   "source": [
    "Array1 = np.array([1, 2, 3])\n",
    "Array2 = np.array([4, 5, 6])\n",
    "Addition = np.add(Array1, Array2)\n",
    "print(Addition)\n",
    "Subtraction = np.subtract(Array1, Array2)\n",
    "print(Subtraction)\n",
    "Multiplication = np.multiply(Array1, Array2)\n",
    "print(Multiplication)\n",
    "Division = np.divide(Array1, Array2)\n",
    "print(Division)"
   ]
  },
  {
   "cell_type": "markdown",
   "metadata": {
    "id": "JVt4zxkk8e0P"
   },
   "source": [
    "Find the sum, mean, and standard deviation of the array [1, 2, 3, 4, 5].\n"
   ]
  },
  {
   "cell_type": "code",
   "execution_count": 12,
   "metadata": {
    "id": "mQZxaZ0c8nhh"
   },
   "outputs": [
    {
     "name": "stdout",
     "output_type": "stream",
     "text": [
      "15\n",
      "3.0\n",
      "1.4142135623730951\n"
     ]
    }
   ],
   "source": [
    "Array = np.array([1, 2, 3, 4, 5])\n",
    "Sum_Array = np.sum(Array)\n",
    "print(Sum_Array)\n",
    "Mean_Array = np.mean(Array)\n",
    "print(Mean_Array)\n",
    "Std_Array = np.std(Array)\n",
    "print(Std_Array)"
   ]
  },
  {
   "cell_type": "markdown",
   "metadata": {
    "id": "ji2XvW0Z8nn5"
   },
   "source": [
    "Reshape the array [1, 2, 3, 4, 5, 6] into a 2x3 array.\n",
    "\n",
    "Explore Reshape"
   ]
  },
  {
   "cell_type": "code",
   "execution_count": 13,
   "metadata": {
    "id": "FNbYlzyI8rAx"
   },
   "outputs": [
    {
     "name": "stdout",
     "output_type": "stream",
     "text": [
      "[[0 1 2]\n",
      " [3 4 5]\n",
      " [6 7 8]]\n"
     ]
    }
   ],
   "source": [
    "Array = np.array([1, 2, 3, 4, 5, 6])\n",
    "Reshaped_array = Array.reshape((2, 3))\n",
    "\n",
    "print(Reshaped_Array)"
   ]
  },
  {
   "cell_type": "markdown",
   "metadata": {
    "id": "OE-5o0th3SU4"
   },
   "source": [
    "\n",
    "# **2. Indexing and Slicing:**\n"
   ]
  },
  {
   "cell_type": "markdown",
   "metadata": {
    "id": "yqNKWBOl3an3"
   },
   "source": [
    "Create a 5x5 array with random integers.\n"
   ]
  },
  {
   "cell_type": "code",
   "execution_count": 15,
   "metadata": {
    "id": "G-kX4nme2RBn"
   },
   "outputs": [
    {
     "name": "stdout",
     "output_type": "stream",
     "text": [
      "[[2 4 8 4 2]\n",
      " [3 4 3 9 4]\n",
      " [2 4 8 7 1]\n",
      " [2 2 7 8 5]\n",
      " [2 0 2 4 5]]\n"
     ]
    }
   ],
   "source": [
    "Array = np.random.randint(low=0, high=10, size=(5, 5))\n",
    "\n",
    "print(Array)"
   ]
  },
  {
   "cell_type": "markdown",
   "metadata": {
    "id": "LlilKAMF3bMX"
   },
   "source": [
    "Replace all values in the sub-array with a specific value.\n"
   ]
  },
  {
   "cell_type": "code",
   "execution_count": 16,
   "metadata": {
    "id": "gShfqRGm2REI"
   },
   "outputs": [
    {
     "name": "stdout",
     "output_type": "stream",
     "text": [
      "[[ 2  4  8  4  2]\n",
      " [ 3  4 10 10  4]\n",
      " [ 2  4 10 10  1]\n",
      " [ 2  2  7  8  5]\n",
      " [ 2  0  2  4  5]]\n"
     ]
    }
   ],
   "source": [
    "Row_Start, Row_End = 1, 3\n",
    "Col_Start, Col_End = 2, 4\n",
    "\n",
    "Array[Row_Start:Row_End, Col_Start:Col_End] = 10\n",
    "\n",
    "print(Array)"
   ]
  },
  {
   "cell_type": "markdown",
   "metadata": {
    "id": "1kUY7u023gfF"
   },
   "source": [
    "Extract the subarray [[3, 4], [7, 8]] from the array [[1, 2], [3, 4], [5, 6], [7, 8]].\n"
   ]
  },
  {
   "cell_type": "code",
   "execution_count": 17,
   "metadata": {
    "id": "UmgqjBwC3_4V"
   },
   "outputs": [
    {
     "name": "stdout",
     "output_type": "stream",
     "text": [
      "[[3 4]\n",
      " [7 8]]\n"
     ]
    }
   ],
   "source": [
    "Array = np.array([[1, 2], [3, 4], [5, 6], [7, 8]])\n",
    "Sub_Array = Array[[1, 3], :]\n",
    "print(Sub_Array)"
   ]
  },
  {
   "cell_type": "markdown",
   "metadata": {
    "id": "vPrCHS_O3jK9"
   },
   "source": [
    "\n",
    "# **3. Broadcasting:**"
   ]
  },
  {
   "cell_type": "markdown",
   "metadata": {
    "id": "W3WUM5Cc3phc"
   },
   "source": [
    "Create a 2D array of shape (3, 3) with values from 0 to 2.\n"
   ]
  },
  {
   "cell_type": "code",
   "execution_count": 18,
   "metadata": {
    "id": "PxJrAlFW2RGw"
   },
   "outputs": [
    {
     "name": "stdout",
     "output_type": "stream",
     "text": [
      "[[0 3 6]\n",
      " [1 4 7]\n",
      " [2 5 8]]\n"
     ]
    }
   ],
   "source": [
    "Array = np.array(np.arange(3)*3 + np.arange(3)[:, None], dtype=int)\n",
    "print(Array)"
   ]
  },
  {
   "cell_type": "markdown",
   "metadata": {
    "id": "J5XPwN3A3rXG"
   },
   "source": [
    "Add a 1D array of shape (3,) to each row of the 2D array using broadcasting.\n"
   ]
  },
  {
   "cell_type": "code",
   "execution_count": 19,
   "metadata": {
    "id": "k4FM2g_c2RJv"
   },
   "outputs": [
    {
     "name": "stdout",
     "output_type": "stream",
     "text": [
      "[[11 12 13]\n",
      " [15 16 17]\n",
      " [19 20 21]]\n"
     ]
    }
   ],
   "source": [
    "Array_2d = np.array([[1, 2, 3], [4, 5, 6], [7, 8, 9]])\n",
    "Array_1d = np.array([10, 11, 12])\n",
    "Result = Array_2d + Array_1d[:, np.newaxis]\n",
    "\n",
    "print(Result)"
   ]
  },
  {
   "cell_type": "markdown",
   "metadata": {
    "id": "9CbtQS3w4PA3"
   },
   "source": [
    "# **4. Concatenation and Splitting**"
   ]
  },
  {
   "cell_type": "markdown",
   "metadata": {
    "id": "yMg_umVy4ILG"
   },
   "source": [
    "\n",
    "1.   Create two 2D arrays of shape (3, 3) with random integers.\n",
    "2.   Concatenate them horizontally and vertically.\n",
    "3.   Split the concatenated arrays back into the original arrays.\n"
   ]
  },
  {
   "cell_type": "code",
   "execution_count": 20,
   "metadata": {
    "id": "wXiCa2Sn8XHP"
   },
   "outputs": [
    {
     "name": "stdout",
     "output_type": "stream",
     "text": [
      "Array 1:\n",
      "[[4 9 3]\n",
      " [3 5 8]\n",
      " [6 0 7]]\n",
      "Array 2:\n",
      "[[7 1 5]\n",
      " [1 9 3]\n",
      " [8 0 7]]\n"
     ]
    }
   ],
   "source": [
    "Array1 = np.random.randint(0, 10, size=(3, 3))\n",
    "Array2 = np.random.randint(0, 10, size=(3, 3))\n",
    "\n",
    "print(\"Array 1:\")\n",
    "print(Array1)\n",
    "print(\"Array 2:\")\n",
    "print(Array2)"
   ]
  },
  {
   "cell_type": "code",
   "execution_count": 22,
   "metadata": {
    "id": "yAiYe6vj8XSW"
   },
   "outputs": [
    {
     "name": "stdout",
     "output_type": "stream",
     "text": [
      "Horizontally:\n",
      "[[4 9 3 7 1 5]\n",
      " [3 5 8 1 9 3]\n",
      " [6 0 7 8 0 7]]\n",
      "Vertically:\n",
      "[[4 9 3]\n",
      " [3 5 8]\n",
      " [6 0 7]\n",
      " [7 1 5]\n",
      " [1 9 3]\n",
      " [8 0 7]]\n"
     ]
    }
   ],
   "source": [
    "Array_h = np.concatenate((Array1, Array2), axis=1)\n",
    "Array_v = np.concatenate((Array1, Array2), axis=0)\n",
    "\n",
    "print(\"Horizontally:\")\n",
    "print(Array_h)\n",
    "print(\"Vertically:\")\n",
    "print(Array_v)"
   ]
  },
  {
   "cell_type": "code",
   "execution_count": 24,
   "metadata": {
    "id": "lgMsjt-J8XZK"
   },
   "outputs": [
    {
     "name": "stdout",
     "output_type": "stream",
     "text": [
      "Original Vertical:\n",
      "[[4 9 3]\n",
      " [3 5 8]\n",
      " [6 0 7]]\n",
      "Original Vertical):\n",
      "[[7 1 5]\n",
      " [1 9 3]\n",
      " [8 0 7]]\n"
     ]
    }
   ],
   "source": [
    "Array_v = np.concatenate((Array1, Array2), axis=0)\n",
    "Array1_v, Array2_v = np.vsplit(Array_v, 2)\n",
    "\n",
    "print(\"Original Vertical:\")\n",
    "print(Array1_v)\n",
    "print(\"Original Vertical):\")\n",
    "print(Array2_v)"
   ]
  },
  {
   "cell_type": "markdown",
   "metadata": {
    "id": "2CliNLH8YG3j"
   },
   "source": [
    "# **Bonus Question**\n",
    "\n",
    "Find mode of this array  = [1,2,1,2,3,4,5,6,8,9,1,2,2,22,21,1,1,1,1,2,5]\n",
    "\n",
    "Hint: Use count and also loop"
   ]
  },
  {
   "cell_type": "code",
   "execution_count": 28,
   "metadata": {
    "id": "JGe2Qe3SYaHq"
   },
   "outputs": [
    {
     "name": "stdout",
     "output_type": "stream",
     "text": [
      "Mode:  1\n"
     ]
    }
   ],
   "source": [
    "Array = [1,2,1,2,3,4,5,6,8,9,1,2,2,22,21,1,1,1,1,2,5]\n",
    "\n",
    "Count_Dict = {}\n",
    "\n",
    "Mode = None\n",
    "Max_Count = 0\n",
    "for Element in Array:\n",
    "    if Element not in Count_Dict:\n",
    "        Count_Dict[Element] = 1\n",
    "    else:\n",
    "        Count_Dict[Element] += 1\n",
    "for Element, Count in Count_Dict.items():\n",
    "    if Count > Max_Count:\n",
    "        Mode = Element\n",
    "        Max_Count = Count\n",
    "    elif Count == Max_Count:\n",
    "        Mode = [Element, Mode]\n",
    "\n",
    "print(\"Mode: \", Mode)"
   ]
  },
  {
   "cell_type": "markdown",
   "metadata": {
    "id": "1t9n5GQdYbHN"
   },
   "source": [
    "# **Notes**\n",
    "\n",
    "\n",
    "1.   All the Questions carry Equal Points (2 points)\n",
    "\n",
    "2.   Bonus Question carry 5 points\n",
    "\n",
    "3.   Review lecture for any query\n",
    "\n",
    "Good Luck!\n",
    "\n"
   ]
  },
  {
   "cell_type": "code",
   "execution_count": null,
   "metadata": {
    "id": "yxT9-gJfYugV"
   },
   "outputs": [],
   "source": []
  }
 ],
 "metadata": {
  "colab": {
   "provenance": []
  },
  "kernelspec": {
   "display_name": "Python 3 (ipykernel)",
   "language": "python",
   "name": "python3"
  },
  "language_info": {
   "codemirror_mode": {
    "name": "ipython",
    "version": 3
   },
   "file_extension": ".py",
   "mimetype": "text/x-python",
   "name": "python",
   "nbconvert_exporter": "python",
   "pygments_lexer": "ipython3",
   "version": "3.11.5"
  }
 },
 "nbformat": 4,
 "nbformat_minor": 1
}
